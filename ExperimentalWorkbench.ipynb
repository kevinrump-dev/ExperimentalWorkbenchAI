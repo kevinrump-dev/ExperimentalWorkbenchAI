{
 "cells": [
  {
   "cell_type": "code",
   "execution_count": null,
   "metadata": {},
   "outputs": [],
   "source": [
    "# import all needed packages\n",
    "import numpy as np\n",
    "import pandas as pd\n",
    "from sklearn.neighbors import KNeighborsClassifier\n",
    "from sklearn.linear_model import LogisticRegression\n",
    "import json\n",
    "from sklearn.model_selection import train_test_split\n",
    "from sklearn.preprocessing import OrdinalEncoder"
   ]
  },
  {
   "cell_type": "markdown",
   "metadata": {},
   "source": [
    "### Import of the Classes Used for the Pipeline\n",
    "\n",
    "\n",
    "#### Hint:\n",
    "If you want to use own classes replace the imports with your own. Make sure that the basic structure and functionality is the same othewise error will occure."
   ]
  },
  {
   "cell_type": "code",
   "execution_count": null,
   "metadata": {},
   "outputs": [],
   "source": [
    "# import own Classes needed for experimantal workbench\n",
    "from Analyzer import Analyzer\n",
    "from Evaluator import Evaluator\n",
    "from JSONExtractor import JSONExtractor\n",
    "from GraphicalExtractor import GraphicalExtractor\n",
    "from Pipeline import Pipeline"
   ]
  },
  {
   "cell_type": "markdown",
   "metadata": {},
   "source": [
    "## Step 1\n",
    "Import your model and run the cell to make sure everything works."
   ]
  },
  {
   "cell_type": "code",
   "execution_count": null,
   "metadata": {},
   "outputs": [],
   "source": [
    "model = LogisticRegression(max_iter=10000)"
   ]
  },
  {
   "cell_type": "markdown",
   "metadata": {},
   "source": [
    "## Step 2\n",
    "Import the test data and run the cell to make sure everything works."
   ]
  },
  {
   "cell_type": "code",
   "execution_count": null,
   "metadata": {},
   "outputs": [],
   "source": [
    "\n",
    "x_test = []\n",
    "y_test = []"
   ]
  },
  {
   "cell_type": "markdown",
   "metadata": {},
   "source": [
    "## Step 2.1 Optional\n",
    "If your data is a dataframe ignore this step.\n",
    "If your data is numpy data, create two lists. The first one called x_columns should contain the column names of the x_data and the y_column the name of the target column"
   ]
  },
  {
   "cell_type": "code",
   "execution_count": null,
   "metadata": {},
   "outputs": [],
   "source": [
    "x_columns = []\n",
    "y_columns = []"
   ]
  },
  {
   "cell_type": "markdown",
   "metadata": {},
   "source": [
    "## Step 3 Option 1\n",
    "Create the configuration as Python dictionary"
   ]
  },
  {
   "cell_type": "code",
   "execution_count": null,
   "metadata": {},
   "outputs": [],
   "source": [
    "configuration = {\n",
    "    \"trainedState\": True,\n",
    "    \"outputType\": \"*\",\n",
    "    \"outputFileName\": \"experiment_workbench\",\n",
    "    \"outputFileType\": \"pdf\",\n",
    "    \"outputFilePath\": \"./\",\n",
    "    \"type\": \"classification\",\n",
    "    \n",
    "}"
   ]
  },
  {
   "cell_type": "markdown",
   "metadata": {},
   "source": [
    "# Step 3 Option 2\n",
    "Import your JSON file as configuration"
   ]
  },
  {
   "cell_type": "code",
   "execution_count": null,
   "metadata": {},
   "outputs": [],
   "source": [
    "path_to_file = \"config.json\"\n",
    "\n",
    "file = open(path_to_file)\n",
    "\n",
    "configuration = json.load(file)\n",
    "\n",
    "\n",
    "# uncomment print to test if configuration is loaded correctly\n",
    "# print(configuration)"
   ]
  },
  {
   "cell_type": "code",
   "execution_count": null,
   "metadata": {},
   "outputs": [],
   "source": [
    "analyzer = Analyzer(x, y)\n",
    "evaluator = Evaluator(x_test, y_test)\n",
    "extractor1 = JSONExtractor()\n",
    "extractor2 = GraphicalExtractor()\n",
    "pipeline = Pipeline((analyzer, evaluator, extractor1, extractor2), model, configuration)\n",
    "pipeline.test()"
   ]
  },
  {
   "cell_type": "code",
   "execution_count": null,
   "metadata": {},
   "outputs": [],
   "source": []
  }
 ],
 "metadata": {
  "kernelspec": {
   "display_name": "Python 3.10.4 ('dda')",
   "language": "python",
   "name": "python3"
  },
  "language_info": {
   "codemirror_mode": {
    "name": "ipython",
    "version": 3
   },
   "file_extension": ".py",
   "mimetype": "text/x-python",
   "name": "python",
   "nbconvert_exporter": "python",
   "pygments_lexer": "ipython3",
   "version": "3.10.4"
  },
  "vscode": {
   "interpreter": {
    "hash": "15cb406e05b11b0b396a1fb38b23cf72cd1cdd30a92624de2b886de22913c70d"
   }
  }
 },
 "nbformat": 4,
 "nbformat_minor": 4
}
